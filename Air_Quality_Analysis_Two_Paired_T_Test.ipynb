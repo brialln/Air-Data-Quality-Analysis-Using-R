{
  "nbformat": 4,
  "nbformat_minor": 0,
  "metadata": {
    "colab": {
      "provenance": [],
      "authorship_tag": "ABX9TyNzVufI/ZC0xGXulr7694Lg",
      "include_colab_link": true
    },
    "kernelspec": {
      "name": "python3",
      "display_name": "Python 3"
    },
    "language_info": {
      "name": "python"
    }
  },
  "cells": [
    {
      "cell_type": "markdown",
      "metadata": {
        "id": "view-in-github",
        "colab_type": "text"
      },
      "source": [
        "<a href=\"https://colab.research.google.com/github/brialln/Air-Data-Quality-Analysis-Using-R/blob/main/Air_Quality_Analysis_Two_Paired_T_Test.ipynb\" target=\"_parent\"><img src=\"https://colab.research.google.com/assets/colab-badge.svg\" alt=\"Open In Colab\"/></a>"
      ]
    },
    {
      "cell_type": "code",
      "source": [
        "# Run this in a Python cell to set up R in Google Colab\n",
        "!pip install rpy2==3.5.1"
      ],
      "metadata": {
        "colab": {
          "base_uri": "https://localhost:8080/"
        },
        "id": "Wd9jwPlflxUz",
        "outputId": "0e785d97-8b9a-4ec6-a6d7-4271d4cdc763",
        "collapsed": true
      },
      "execution_count": null,
      "outputs": [
        {
          "output_type": "stream",
          "name": "stdout",
          "text": [
            "Collecting rpy2==3.5.1\n",
            "  Downloading rpy2-3.5.1.tar.gz (201 kB)\n",
            "\u001b[?25l     \u001b[90m━━━━━━━━━━━━━━━━━━━━━━━━━━━━━━━━━━━━━━━━\u001b[0m \u001b[32m0.0/201.7 kB\u001b[0m \u001b[31m?\u001b[0m eta \u001b[36m-:--:--\u001b[0m\r\u001b[2K     \u001b[91m━━━━━━━━━━━━━━━━━━━━━━━━━━━━\u001b[0m\u001b[90m╺\u001b[0m\u001b[90m━━━━━━━━━━━\u001b[0m \u001b[32m143.4/201.7 kB\u001b[0m \u001b[31m4.9 MB/s\u001b[0m eta \u001b[36m0:00:01\u001b[0m\r\u001b[2K     \u001b[90m━━━━━━━━━━━━━━━━━━━━━━━━━━━━━━━━━━━━━━━━\u001b[0m \u001b[32m201.7/201.7 kB\u001b[0m \u001b[31m3.6 MB/s\u001b[0m eta \u001b[36m0:00:00\u001b[0m\n",
            "\u001b[?25h  Preparing metadata (setup.py) ... \u001b[?25l\u001b[?25hdone\n",
            "Requirement already satisfied: cffi>=1.10.0 in /usr/local/lib/python3.10/dist-packages (from rpy2==3.5.1) (1.17.1)\n",
            "Requirement already satisfied: jinja2 in /usr/local/lib/python3.10/dist-packages (from rpy2==3.5.1) (3.1.4)\n",
            "Requirement already satisfied: pytz in /usr/local/lib/python3.10/dist-packages (from rpy2==3.5.1) (2024.2)\n",
            "Requirement already satisfied: tzlocal in /usr/local/lib/python3.10/dist-packages (from rpy2==3.5.1) (5.2)\n",
            "Requirement already satisfied: pycparser in /usr/local/lib/python3.10/dist-packages (from cffi>=1.10.0->rpy2==3.5.1) (2.22)\n",
            "Requirement already satisfied: MarkupSafe>=2.0 in /usr/local/lib/python3.10/dist-packages (from jinja2->rpy2==3.5.1) (3.0.2)\n",
            "Building wheels for collected packages: rpy2\n",
            "  Building wheel for rpy2 (setup.py) ... \u001b[?25l\u001b[?25hdone\n",
            "  Created wheel for rpy2: filename=rpy2-3.5.1-cp310-cp310-linux_x86_64.whl size=314948 sha256=7eb68293aba776603e67abd2a43c75e95474d846529e17dd379393b8908dfaac\n",
            "  Stored in directory: /root/.cache/pip/wheels/73/a6/ff/4e75dd1ce1cfa2b9a670cbccf6a1e41c553199e9b25f05d953\n",
            "Successfully built rpy2\n",
            "Installing collected packages: rpy2\n",
            "  Attempting uninstall: rpy2\n",
            "    Found existing installation: rpy2 3.4.2\n",
            "    Uninstalling rpy2-3.4.2:\n",
            "      Successfully uninstalled rpy2-3.4.2\n",
            "Successfully installed rpy2-3.5.1\n"
          ]
        }
      ]
    },
    {
      "cell_type": "code",
      "source": [
        "# Load the R magic\n",
        "%load_ext rpy2.ipython"
      ],
      "metadata": {
        "id": "OWFtj8K_ly0Y"
      },
      "execution_count": null,
      "outputs": []
    },
    {
      "cell_type": "code",
      "execution_count": null,
      "metadata": {
        "colab": {
          "base_uri": "https://localhost:8080/",
          "height": 965
        },
        "id": "RJlaJ4x1lod6",
        "outputId": "5b7bec02-47bb-4d76-ec86-ffaf47db7d67"
      },
      "outputs": [
        {
          "output_type": "stream",
          "name": "stderr",
          "text": [
            "WARNING:rpy2.rinterface_lib.callbacks:R[write to console]: \n",
            "Attaching package: ‘lubridate’\n",
            "\n",
            "\n",
            "WARNING:rpy2.rinterface_lib.callbacks:R[write to console]: The following objects are masked from ‘package:base’:\n",
            "\n",
            "    date, intersect, setdiff, union\n",
            "\n",
            "\n"
          ]
        },
        {
          "output_type": "stream",
          "name": "stdout",
          "text": [
            "Rows: 216 Columns: 9\n",
            "── Column specification ────────────────────────────────────────────────────────\n",
            "Delimiter: \",\"\n",
            "chr  (1): Combined Wind Direction\n",
            "dbl  (7): PM2.5 Concentration, Dew Point, Temperature, Pressure, Combined Wi...\n",
            "dttm (1): DateTime\n",
            "\n",
            "ℹ Use `spec()` to retrieve the full column specification for this data.\n",
            "ℹ Specify the column types or set `show_col_types = FALSE` to quiet this message.\n",
            "\n",
            "T-Test Results: PM2.5 Concentration (Daytime vs Nighttime)\n",
            "T-value: -2.337521 \n",
            "P-value: 0.0203765 \n",
            "Degrees of Freedom: 205 \n",
            "\n",
            "Group Statistics:\n",
            "Daytime Mean: 72.90741 Standard Deviation: 53.86458 \n",
            "Nighttime Mean: 91.59596 Standard Deviation: 61.14435 \n"
          ]
        },
        {
          "output_type": "display_data",
          "data": {
            "image/png": "[encoded data removed]"
          },
          "metadata": {}
        }
      ],
      "source": [
        "%%R\n",
        "# Load necessary library\n",
        "library(readr)\n",
        "library(lubridate)  # For working with DateTime\n",
        "\n",
        "# Load the dataset\n",
        "data <- read_csv(\"/content/R Language_ Project 3 - Air Quality Data - Air Quality in US embassy in Beijing, China.csv\")\n",
        "\n",
        "# Convert DateTime to POSIXct format\n",
        "data$DateTime <- ymd_hms(data$DateTime)\n",
        "\n",
        "# Extract the hour from DateTime\n",
        "data$Hour <- hour(data$DateTime)\n",
        "\n",
        "# Categorize into Daytime (6 AM - 6 PM) and Nighttime (6 PM - 6 AM)\n",
        "data$TimePeriod <- ifelse(data$Hour >= 6 & data$Hour < 18, \"Daytime\", \"Nighttime\")\n",
        "\n",
        "# Split PM2.5 by time period\n",
        "daytime_pm25 <- data$`PM2.5 Concentration`[data$TimePeriod == \"Daytime\"]\n",
        "nighttime_pm25 <- data$`PM2.5 Concentration`[data$TimePeriod == \"Nighttime\"]\n",
        "\n",
        "# Paired T-Test: PM2.5 (Daytime vs Nighttime)\n",
        "t_test_pm25_time <- t.test(daytime_pm25, nighttime_pm25, var.equal = TRUE)\n",
        "\n",
        "# Calculate additional statistics\n",
        "daytime_mean <- mean(daytime_pm25, na.rm = TRUE)\n",
        "daytime_sd <- sd(daytime_pm25, na.rm = TRUE)\n",
        "nighttime_mean <- mean(nighttime_pm25, na.rm = TRUE)\n",
        "nighttime_sd <- sd(nighttime_pm25, na.rm = TRUE)\n",
        "\n",
        "# Display the plot in the console\n",
        "boxplot(\n",
        "  PM2.5 ~ TimePeriod, data = data.frame(\n",
        "    PM2.5 = c(daytime_pm25, nighttime_pm25),\n",
        "    TimePeriod = c(rep(\"Daytime\", length(daytime_pm25)), rep(\"Nighttime\", length(nighttime_pm25)))\n",
        "  ),\n",
        "  col = c(\"lightgoldenrod\", \"lightskyblue\"),\n",
        "  main = \"PM2.5 Concentration: Daytime vs Nighttime\",\n",
        "  xlab = \"Time Period\",\n",
        "  ylab = \"PM2.5 Concentration (µg/m³)\",\n",
        "  border = \"black\"\n",
        ")\n",
        "\n",
        "# Add a legend\n",
        "legend(\n",
        "  \"topleft\",\n",
        "  legend = c(\"Daytime\", \"Nighttime\"),\n",
        "  fill = c(\"lightgoldenrod\", \"lightskyblue\"),\n",
        "  title = \"Time Period\"\n",
        ")\n",
        "\n",
        "# Save the plot as a PNG file\n",
        "png(filename = \"pm25_daytime_vs_nighttime.png\", width = 800, height = 600)\n",
        "\n",
        "# Recreate the plot for the PNG file\n",
        "boxplot(\n",
        "  PM2.5 ~ TimePeriod, data = data.frame(\n",
        "    PM2.5 = c(daytime_pm25, nighttime_pm25),\n",
        "    TimePeriod = c(rep(\"Daytime\", length(daytime_pm25)), rep(\"Nighttime\", length(nighttime_pm25)))\n",
        "  ),\n",
        "  col = c(\"lightgoldenrod\", \"lightskyblue\"),\n",
        "  main = \"PM2.5 Concentration: Daytime vs Nighttime\",\n",
        "  xlab = \"Time Period\",\n",
        "  ylab = \"PM2.5 Concentration (µg/m³)\",\n",
        "  border = \"black\"\n",
        ")\n",
        "\n",
        "# Add a legend to the PNG\n",
        "legend(\n",
        "  \"topleft\",\n",
        "  legend = c(\"Daytime\", \"Nighttime\"),\n",
        "  fill = c(\"lightgoldenrod\", \"lightskyblue\"),\n",
        "  title = \"Time Period\"\n",
        ")\n",
        "\n",
        "# Close the PNG device\n",
        "dev.off()\n",
        "\n",
        "# Print T-Test Results and Additional Statistics\n",
        "cat(\"\\nT-Test Results: PM2.5 Concentration (Daytime vs Nighttime)\\n\")\n",
        "cat(\"T-value:\", t_test_pm25_time$statistic, \"\\n\")\n",
        "cat(\"P-value:\", t_test_pm25_time$p.value, \"\\n\")\n",
        "cat(\"Degrees of Freedom:\", t_test_pm25_time$parameter, \"\\n\")\n",
        "cat(\"\\nGroup Statistics:\\n\")\n",
        "cat(\"Daytime Mean:\", daytime_mean, \"Standard Deviation:\", daytime_sd, \"\\n\")\n",
        "cat(\"Nighttime Mean:\", nighttime_mean, \"Standard Deviation:\", nighttime_sd, \"\\n\")\n"
      ]
    }
  ]
}