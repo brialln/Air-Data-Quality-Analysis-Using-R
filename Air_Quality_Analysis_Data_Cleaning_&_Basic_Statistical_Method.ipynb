{
  "nbformat": 4,
  "nbformat_minor": 0,
  "metadata": {
    "colab": {
      "provenance": [],
      "authorship_tag": "ABX9TyP0cs0Zv6gzN/VzegemErXF",
      "include_colab_link": true
    },
    "kernelspec": {
      "name": "python3",
      "display_name": "Python 3"
    },
    "language_info": {
      "name": "python"
    }
  },
  "cells": [
    {
      "cell_type": "markdown",
      "metadata": {
        "id": "view-in-github",
        "colab_type": "text"
      },
      "source": [
        "<a href=\"https://colab.research.google.com/github/brialln/Air-Data-Quality-Analysis-Using-R/blob/main/Air_Quality_Analysis_Data_Cleaning_%26_Basic_Statistical_Method.ipynb\" target=\"_parent\"><img src=\"https://colab.research.google.com/assets/colab-badge.svg\" alt=\"Open In Colab\"/></a>"
      ]
    },
    {
      "cell_type": "code",
      "source": [
        "# Run this in a Python cell to set up R in Google Colab\n",
        "!pip install rpy2==3.5.1"
      ],
      "metadata": {
        "collapsed": true,
        "id": "JPSFBZHotH8y",
        "colab": {
          "base_uri": "https://localhost:8080/"
        },
        "outputId": "da10346c-00f2-4366-c633-a3740dce772e"
      },
      "execution_count": null,
      "outputs": [
        {
          "output_type": "stream",
          "name": "stdout",
          "text": [
            "Collecting rpy2==3.5.1\n",
            "  Downloading rpy2-3.5.1.tar.gz (201 kB)\n",
            "\u001b[?25l     \u001b[90m━━━━━━━━━━━━━━━━━━━━━━━━━━━━━━━━━━━━━━━━\u001b[0m \u001b[32m0.0/201.7 kB\u001b[0m \u001b[31m?\u001b[0m eta \u001b[36m-:--:--\u001b[0m\r\u001b[2K     \u001b[91m━━━━━━━━━━━━━━━━━━━━━━━━\u001b[0m\u001b[90m╺\u001b[0m\u001b[90m━━━━━━━━━━━━━━━\u001b[0m \u001b[32m122.9/201.7 kB\u001b[0m \u001b[31m4.5 MB/s\u001b[0m eta \u001b[36m0:00:01\u001b[0m\r\u001b[2K     \u001b[90m━━━━━━━━━━━━━━━━━━━━━━━━━━━━━━━━━━━━━━━━\u001b[0m \u001b[32m201.7/201.7 kB\u001b[0m \u001b[31m3.9 MB/s\u001b[0m eta \u001b[36m0:00:00\u001b[0m\n",
            "\u001b[?25h  Preparing metadata (setup.py) ... \u001b[?25l\u001b[?25hdone\n",
            "Requirement already satisfied: cffi>=1.10.0 in /usr/local/lib/python3.10/dist-packages (from rpy2==3.5.1) (1.17.1)\n",
            "Requirement already satisfied: jinja2 in /usr/local/lib/python3.10/dist-packages (from rpy2==3.5.1) (3.1.5)\n",
            "Requirement already satisfied: pytz in /usr/local/lib/python3.10/dist-packages (from rpy2==3.5.1) (2024.2)\n",
            "Requirement already satisfied: tzlocal in /usr/local/lib/python3.10/dist-packages (from rpy2==3.5.1) (5.2)\n",
            "Requirement already satisfied: pycparser in /usr/local/lib/python3.10/dist-packages (from cffi>=1.10.0->rpy2==3.5.1) (2.22)\n",
            "Requirement already satisfied: MarkupSafe>=2.0 in /usr/local/lib/python3.10/dist-packages (from jinja2->rpy2==3.5.1) (3.0.2)\n",
            "Building wheels for collected packages: rpy2\n",
            "  Building wheel for rpy2 (setup.py) ... \u001b[?25l\u001b[?25hdone\n",
            "  Created wheel for rpy2: filename=rpy2-3.5.1-cp310-cp310-linux_x86_64.whl size=314950 sha256=9de82d9e0332e3170366686dc44662e3ac1078faaf7bafc20915419667ad54d0\n",
            "  Stored in directory: /root/.cache/pip/wheels/73/a6/ff/4e75dd1ce1cfa2b9a670cbccf6a1e41c553199e9b25f05d953\n",
            "Successfully built rpy2\n",
            "Installing collected packages: rpy2\n",
            "  Attempting uninstall: rpy2\n",
            "    Found existing installation: rpy2 3.4.2\n",
            "    Uninstalling rpy2-3.4.2:\n",
            "      Successfully uninstalled rpy2-3.4.2\n",
            "Successfully installed rpy2-3.5.1\n"
          ]
        }
      ]
    },
    {
      "cell_type": "code",
      "source": [
        "# Load the R magic\n",
        "%load_ext rpy2.ipython"
      ],
      "metadata": {
        "id": "3BZ-HGgKtlgK"
      },
      "execution_count": null,
      "outputs": []
    },
    {
      "cell_type": "code",
      "source": [
        "%%R\n",
        "# Install necessary libraries (if not already installed)\n",
        "if(!require(tidyverse)) install.packages(\"tidyverse\")\n",
        "\n",
        "library(tidyverse)\n",
        "\n",
        "# Load the dataset\n",
        "file_path <- \"/content/R LANGUAGE PROJECT DATASET - Air Quality in US embassy in Beijing, China.csv\"\n",
        "air_quality_data <- read_csv(file_path)\n",
        "\n",
        "# Clean the dataset\n",
        "cleaned_data <- air_quality_data %>%\n",
        "  drop_na() %>%                # Remove rows with missing values\n",
        "  distinct() %>%               # Remove duplicate rows\n",
        "  mutate_if(is.character, str_trim) # Trim whitespace from character columns\n",
        "\n",
        "# View the cleaned data\n",
        "print(cleaned_data)"
      ],
      "metadata": {
        "colab": {
          "base_uri": "https://localhost:8080/"
        },
        "id": "Zih96kkwtqi8",
        "outputId": "ba79c45d-a936-4112-c45d-9a0c6a0cd37b"
      },
      "execution_count": null,
      "outputs": [
        {
          "output_type": "stream",
          "name": "stdout",
          "text": [
            "Rows: 216 Columns: 9\n",
            "── Column specification ────────────────────────────────────────────────────────\n",
            "Delimiter: \",\"\n",
            "chr  (1): Combined Wind Direction\n",
            "dbl  (7): PM2.5 Concentration, Dew Point, Temperature, Pressure, Combined Wi...\n",
            "dttm (1): DateTime\n",
            "\n",
            "ℹ Use `spec()` to retrieve the full column specification for this data.\n",
            "ℹ Specify the column types or set `show_col_types = FALSE` to quiet this message.\n",
            "# A tibble: 216 × 9\n",
            "   DateTime            `PM2.5 Concentration` `Dew Point` Temperature Pressure\n",
            "   <dttm>                              <dbl>       <dbl>       <dbl>    <dbl>\n",
            " 1 2010-01-02 00:00:00                   129         -16          -4     1020\n",
            " 2 2010-01-02 01:00:00                   148         -15          -4     1020\n",
            " 3 2010-01-02 02:00:00                   159         -11          -5     1021\n",
            " 4 2010-01-02 03:00:00                   181          -7          -5     1022\n",
            " 5 2010-01-02 04:00:00                   138          -7          -5     1022\n",
            " 6 2010-01-02 05:00:00                   109          -7          -6     1022\n",
            " 7 2010-01-02 06:00:00                   105          -7          -6     1023\n",
            " 8 2010-01-02 07:00:00                   124          -7          -5     1024\n",
            " 9 2010-01-02 08:00:00                   120          -8          -6     1024\n",
            "10 2010-01-02 09:00:00                   132          -7          -5     1025\n",
            "# ℹ 206 more rows\n",
            "# ℹ 4 more variables: `Combined Wind Direction` <chr>,\n",
            "#   `Combined Wind Speed` <dbl>, `Cumulated Hours of Snow` <dbl>,\n",
            "#   `Cumulated Hours of Rain` <dbl>\n",
            "# ℹ Use `print(n = ...)` to see more rows\n"
          ]
        }
      ]
    },
    {
      "cell_type": "code",
      "source": [
        "%%R\n",
        "# Save the cleaned dataset\n",
        "output_file <- \"cleaned_air_quality_data.csv\"\n",
        "write_csv(cleaned_data, output_file)\n",
        "\n",
        "# Confirm the file is saved\n",
        "print(paste(\"Cleaned data saved as:\", output_file))"
      ],
      "metadata": {
        "colab": {
          "base_uri": "https://localhost:8080/"
        },
        "id": "sOpNUB-tuy27",
        "outputId": "86a3f40e-e611-40bf-e97f-1dc6f9a06c6b"
      },
      "execution_count": null,
      "outputs": [
        {
          "output_type": "stream",
          "name": "stdout",
          "text": [
            "[1] \"Cleaned data saved as: cleaned_air_quality_data.csv\"\n"
          ]
        }
      ]
    },
    {
      "cell_type": "code",
      "source": [
        "%%R\n",
        "# Install required package for file upload (only needed in Colab)\n",
        "if (!requireNamespace(\"readr\", quietly = TRUE)) install.packages(\"readr\")\n",
        "\n",
        "# Load required library\n",
        "library(readr)\n",
        "\n",
        "# Prompt to upload and load the CSV file\n",
        "cat(\"Upload your CSV file...\\n\")\n",
        "file_path <- file.choose()  # Open file dialog to select the CSV\n",
        "data <- read_csv(file_path)\n",
        "\n",
        "# Check if any columns are being interpreted as non-numeric (even though they contain numbers)\n",
        "data[] <- lapply(data, function(x) {\n",
        "  # Convert columns with potential decimal values to numeric\n",
        "  if (all(!is.na(as.numeric(x)))) {\n",
        "    return(as.numeric(x))\n",
        "  } else {\n",
        "    return(x)\n",
        "  }\n",
        "})\n",
        "\n",
        "# Function to calculate mode\n",
        "get_mode <- function(x) {\n",
        "  freq_table <- table(x)\n",
        "  modes <- as.numeric(names(freq_table[freq_table == max(freq_table)]))\n",
        "  return(modes)\n",
        "}\n",
        "\n",
        "# Function to calculate mean, median, and mode for numeric columns\n",
        "numeric_summary <- function(data) {\n",
        "  numeric_cols <- data[, sapply(data, is.numeric)] # Select numeric columns\n",
        "  results <- data.frame(\n",
        "    Column = character(),\n",
        "    Mean = numeric(),\n",
        "    Median = numeric(),\n",
        "    Mode = character(),\n",
        "    stringsAsFactors = FALSE\n",
        "  )\n",
        "\n",
        "  for (col_name in colnames(numeric_cols)) {\n",
        "    column_data <- numeric_cols[[col_name]]\n",
        "\n",
        "    # Calculate mean, median, and mode\n",
        "    mean_val <- mean(column_data, na.rm = TRUE)\n",
        "    median_val <- median(column_data, na.rm = TRUE)\n",
        "    mode_val <- paste(get_mode(column_data), collapse = \", \") # Handle multiple modes\n",
        "\n",
        "    # Format mean and median to show decimals\n",
        "    results <- rbind(results, data.frame(\n",
        "      Column = col_name,\n",
        "      Mean = format(mean_val, nsmall = 2),   # Format with 2 decimal places\n",
        "      Median = format(median_val, nsmall = 2),  # Format with 2 decimal places\n",
        "      Mode = mode_val\n",
        "    ))\n",
        "  }\n",
        "\n",
        "  return(results)\n",
        "}\n",
        "\n",
        "# Calculate the results\n",
        "result <- numeric_summary(data)\n",
        "\n",
        "# Display the results\n",
        "print(result)\n",
        "\n",
        "# Save the results to a CSV file\n",
        "output_file <- \"Basic Statistical Measure.csv\"\n",
        "write_csv(result, output_file)\n",
        "cat(\"The results have been saved to:\", output_file, \"\\n\")"
      ],
      "metadata": {
        "id": "YXFO57SoyN3L",
        "colab": {
          "base_uri": "https://localhost:8080/"
        },
        "outputId": "a73a15f0-6dca-426d-f54a-729c64b9104f"
      },
      "execution_count": null,
      "outputs": [
        {
          "output_type": "stream",
          "name": "stdout",
          "text": [
            "Upload your CSV file...\n",
            "Enter file name:/content/statistical_measures-function.txt\n",
            "New names:\n",
            "• `` -> `...10`\n",
            "Rows: 13 Columns: 10\n",
            "── Column specification ────────────────────────────────────────────────────────\n",
            "Delimiter: \",\"\n",
            "chr (5): pm25_data <- c(129.0, 148.0, 159.0, 109.0, ...10\n",
            "dbl (5): 181.0, 138.0, 105.0, 124.0, 120.0\n",
            "\n",
            "ℹ Use `spec()` to retrieve the full column specification for this data.\n",
            "ℹ Specify the column types or set `show_col_types = FALSE` to quiet this message.\n",
            "  Column   Mean Median                 Mode\n",
            "1  181.0  97.00  86.00 26, 61, 86, 148, 164\n",
            "2  138.0  95.00  82.00 20, 53, 82, 156, 164\n",
            "3  105.0  98.50  84.00      72, 78, 90, 154\n",
            "4  124.0  99.00  87.00      63, 76, 98, 159\n",
            "5  120.0 102.25  90.00     65, 73, 107, 164\n",
            "The results have been saved to: Basic Statistical Measure.csv \n"
          ]
        }
      ]
    },
    {
      "cell_type": "code",
      "source": [],
      "metadata": {
        "id": "56cGCsCcO7Ny"
      },
      "execution_count": null,
      "outputs": []
    }
  ]
}